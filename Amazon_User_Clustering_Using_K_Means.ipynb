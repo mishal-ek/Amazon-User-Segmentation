{
  "nbformat": 4,
  "nbformat_minor": 0,
  "metadata": {
    "colab": {
      "provenance": [],
      "collapsed_sections": [
        "prWtH81GHR47",
        "DqltpVzgHi86",
        "bm7cNANcISWs",
        "gm1i2HaJI6S_"
      ]
    },
    "kernelspec": {
      "name": "python3",
      "display_name": "Python 3"
    },
    "language_info": {
      "name": "python"
    }
  },
  "cells": [
    {
      "cell_type": "markdown",
      "source": [
        "# **K-Means Clustering**"
      ],
      "metadata": {
        "id": "B84G3NQjGbgo"
      }
    },
    {
      "cell_type": "markdown",
      "source": [
        "# Importing libraries"
      ],
      "metadata": {
        "id": "prWtH81GHR47"
      }
    },
    {
      "cell_type": "code",
      "execution_count": 240,
      "metadata": {
        "id": "pvs-HEMCm0jJ"
      },
      "outputs": [],
      "source": [
        "import numpy as np\n",
        "import matplotlib.pyplot as plt\n",
        "import pandas as pd"
      ]
    },
    {
      "cell_type": "markdown",
      "source": [
        "# Importing dataset"
      ],
      "metadata": {
        "id": "DqltpVzgHi86"
      }
    },
    {
      "cell_type": "code",
      "source": [
        "dataset = pd.read_csv('/content/drive/MyDrive/Amazon User Segmentation/amazon_cluster_model.csv')"
      ],
      "metadata": {
        "id": "s2MPsUpRHl_F"
      },
      "execution_count": 241,
      "outputs": []
    },
    {
      "cell_type": "code",
      "source": [
        "print(dataset)"
      ],
      "metadata": {
        "colab": {
          "base_uri": "https://localhost:8080/"
        },
        "id": "sQTSMCTeOLV0",
        "outputId": "5a30eda2-3fd5-4086-ee50-91b5b87d7f69"
      },
      "execution_count": 242,
      "outputs": [
        {
          "output_type": "stream",
          "name": "stdout",
          "text": [
            "     Cus_ID Sex  Age  Income  Rating\n",
            "0    301219   M   23   53667     150\n",
            "1    301220   F   32   50420     106\n",
            "2    301221   M   23   62896      10\n",
            "3    301222   M   32   55306      22\n",
            "4    301223   F   34   20634     117\n",
            "..      ...  ..  ...     ...     ...\n",
            "197  301416   M   24   30710     115\n",
            "198  301417   F   25   55340      66\n",
            "199  301418   M   26   41269     142\n",
            "200  301419   F   28   64338      82\n",
            "201  301420   M   28   21533     144\n",
            "\n",
            "[202 rows x 5 columns]\n"
          ]
        }
      ]
    },
    {
      "cell_type": "markdown",
      "source": [
        "# Pre Processing"
      ],
      "metadata": {
        "id": "4PpBc2qRZhvu"
      }
    },
    {
      "cell_type": "markdown",
      "source": [
        "Scaling down rating to 0 to 100"
      ],
      "metadata": {
        "id": "2ZiwVDxxZq0L"
      }
    },
    {
      "cell_type": "code",
      "source": [
        "max_value = dataset['Rating'].max()"
      ],
      "metadata": {
        "id": "qOBeXh11ZmBd"
      },
      "execution_count": 243,
      "outputs": []
    },
    {
      "cell_type": "code",
      "source": [
        "dataset['Scaled Rating'] = (dataset['Rating'] / max_value) * 100"
      ],
      "metadata": {
        "id": "L2bU7vLyZz0a"
      },
      "execution_count": 244,
      "outputs": []
    },
    {
      "cell_type": "code",
      "source": [
        "dataset['Scaled Rating'] = dataset['Scaled Rating'].astype(int)"
      ],
      "metadata": {
        "id": "hCkMF9T0aSDP"
      },
      "execution_count": 245,
      "outputs": []
    },
    {
      "cell_type": "code",
      "source": [
        "dataset = dataset.drop(columns=['Rating'])"
      ],
      "metadata": {
        "id": "RTTXkm9pajmr"
      },
      "execution_count": 246,
      "outputs": []
    },
    {
      "cell_type": "code",
      "source": [
        "dataset = dataset.rename(columns={'Scaled Rating': 'Rating'})"
      ],
      "metadata": {
        "id": "pUijcDKqa3g1"
      },
      "execution_count": 247,
      "outputs": []
    },
    {
      "cell_type": "code",
      "source": [
        "print(dataset)"
      ],
      "metadata": {
        "colab": {
          "base_uri": "https://localhost:8080/"
        },
        "id": "7bYjTtstZzw0",
        "outputId": "8c44715c-13aa-4b3e-95de-c6564bf7983e"
      },
      "execution_count": 248,
      "outputs": [
        {
          "output_type": "stream",
          "name": "stdout",
          "text": [
            "     Cus_ID Sex  Age  Income  Rating\n",
            "0    301219   M   23   53667     100\n",
            "1    301220   F   32   50420      70\n",
            "2    301221   M   23   62896       6\n",
            "3    301222   M   32   55306      14\n",
            "4    301223   F   34   20634      78\n",
            "..      ...  ..  ...     ...     ...\n",
            "197  301416   M   24   30710      76\n",
            "198  301417   F   25   55340      44\n",
            "199  301418   M   26   41269      94\n",
            "200  301419   F   28   64338      54\n",
            "201  301420   M   28   21533      96\n",
            "\n",
            "[202 rows x 5 columns]\n"
          ]
        }
      ]
    },
    {
      "cell_type": "code",
      "source": [
        "print(dataset['Income'])"
      ],
      "metadata": {
        "colab": {
          "base_uri": "https://localhost:8080/"
        },
        "id": "aPR8g0AVZzuW",
        "outputId": "5e155945-1735-450c-c2de-e8885ff282f4"
      },
      "execution_count": 249,
      "outputs": [
        {
          "output_type": "stream",
          "name": "stdout",
          "text": [
            "0      53667\n",
            "1      50420\n",
            "2      62896\n",
            "3      55306\n",
            "4      20634\n",
            "       ...  \n",
            "197    30710\n",
            "198    55340\n",
            "199    41269\n",
            "200    64338\n",
            "201    21533\n",
            "Name: Income, Length: 202, dtype: int64\n"
          ]
        }
      ]
    },
    {
      "cell_type": "markdown",
      "source": [
        "Dropping Cus_Id since we don't need it"
      ],
      "metadata": {
        "id": "7VImXFAVdilN"
      }
    },
    {
      "cell_type": "code",
      "source": [
        "dataset = dataset.drop(columns=['Cus_ID'])"
      ],
      "metadata": {
        "id": "NEquELxjZzsK"
      },
      "execution_count": 250,
      "outputs": []
    },
    {
      "cell_type": "markdown",
      "source": [
        "Sorting based on Income"
      ],
      "metadata": {
        "id": "ZiwSSjBTeI10"
      }
    },
    {
      "cell_type": "code",
      "source": [
        "dataset = dataset.sort_values(by='Income')"
      ],
      "metadata": {
        "id": "_jcC8sHud8Wh"
      },
      "execution_count": 251,
      "outputs": []
    },
    {
      "cell_type": "markdown",
      "source": [
        "# Working on Dataset (For Income vs Rating)"
      ],
      "metadata": {
        "id": "LUr2txiWcfkF"
      }
    },
    {
      "cell_type": "code",
      "source": [
        "#x = dataset.iloc[:, 5:6].values"
      ],
      "metadata": {
        "id": "dnKLYLaQc1g2"
      },
      "execution_count": 252,
      "outputs": []
    },
    {
      "cell_type": "code",
      "source": [
        "column_5 = dataset.iloc[:, 2].values"
      ],
      "metadata": {
        "id": "qTRk8u2WcjYK"
      },
      "execution_count": 253,
      "outputs": []
    },
    {
      "cell_type": "code",
      "source": [
        "print(column_5)"
      ],
      "metadata": {
        "colab": {
          "base_uri": "https://localhost:8080/"
        },
        "id": "GBQIg033eS9Q",
        "outputId": "2c16afc5-d03e-4ed6-8d6c-ff6153384d65"
      },
      "execution_count": 254,
      "outputs": [
        {
          "output_type": "stream",
          "name": "stdout",
          "text": [
            "[20159 20303 20509 20634 20651 21401 21533 21739 21801 21898 22410 22706\n",
            " 22982 23096 24039 24042 24595 24852 24906 24960 25012 25251 25332 25431\n",
            " 25611 25627 25871 25933 26137 26141 26753 27217 27616 28291 28397 28599\n",
            " 29030 29065 29134 30041 30406 30710 30865 31449 31467 31684 31957 31969\n",
            " 32982 33322 33744 33945 33960 34235 34530 35198 35581 35638 36755 36775\n",
            " 36804 37033 37337 37772 37842 37877 37912 38017 38131 38216 39105 39175\n",
            " 39618 40666 41137 41269 41401 41450 41993 42044 42093 42172 42211 42904\n",
            " 43003 43028 43128 43288 43782 44025 44415 44612 45176 45546 45840 46748\n",
            " 46834 46839 46888 47153 47323 47916 48180 48244 48573 49145 49354 49389\n",
            " 49723 49752 49820 50420 50548 51049 51689 52397 52452 53120 53652 53667\n",
            " 53677 53930 54023 54187 54465 54522 54633 55306 55340 55380 55384 55668\n",
            " 55886 55900 56024 56212 56291 56376 56406 56407 56578 56731 56903 57016\n",
            " 57075 57864 58351 58623 58639 59641 59760 59785 59802 59873 60282 60395\n",
            " 60473 60639 61275 61306 61370 62037 62273 62319 62556 62586 62673 62683\n",
            " 62848 62896 63050 63072 64190 64215 64338 64343 64955 65222 65676 65963\n",
            " 66231 66740 66901 67593 67612 67628 67826 67837 68128 68166 68328 68340\n",
            " 68514 68751 68760 68915 69172 69303 69445 69491 69546 69893]\n"
          ]
        }
      ]
    },
    {
      "cell_type": "code",
      "source": [
        "column_6 = dataset.iloc[:, 3].values"
      ],
      "metadata": {
        "id": "Uu3lmdTxcjhE"
      },
      "execution_count": 255,
      "outputs": []
    },
    {
      "cell_type": "code",
      "source": [
        "x = pd.concat([pd.Series(column_5), pd.Series(column_6)], axis=1)"
      ],
      "metadata": {
        "id": "6XOpZfstcjdr"
      },
      "execution_count": 256,
      "outputs": []
    },
    {
      "cell_type": "code",
      "source": [
        "print(x)"
      ],
      "metadata": {
        "colab": {
          "base_uri": "https://localhost:8080/"
        },
        "id": "hj1J4HGXcxCe",
        "outputId": "4c81afdd-5c56-46b3-bb94-6faf5c982d3a"
      },
      "execution_count": 257,
      "outputs": [
        {
          "output_type": "stream",
          "name": "stdout",
          "text": [
            "         0   1\n",
            "0    20159  12\n",
            "1    20303  22\n",
            "2    20509  79\n",
            "3    20634  78\n",
            "4    20651  57\n",
            "..     ...  ..\n",
            "197  69303  96\n",
            "198  69445   9\n",
            "199  69491  74\n",
            "200  69546   6\n",
            "201  69893   6\n",
            "\n",
            "[202 rows x 2 columns]\n"
          ]
        }
      ]
    },
    {
      "cell_type": "markdown",
      "source": [
        "# Working on Dataset (For Age vs Rating)"
      ],
      "metadata": {
        "id": "vbEHtJxagc2i"
      }
    },
    {
      "cell_type": "code",
      "source": [
        "print(dataset)"
      ],
      "metadata": {
        "colab": {
          "base_uri": "https://localhost:8080/"
        },
        "id": "MUzblewsgr97",
        "outputId": "7aa86943-6f2f-4573-cb92-e72dc8f52cad"
      },
      "execution_count": 258,
      "outputs": [
        {
          "output_type": "stream",
          "name": "stdout",
          "text": [
            "    Sex  Age  Income  Rating\n",
            "110   F   47   20159      12\n",
            "165   F   32   20303      22\n",
            "138   M   23   20509      79\n",
            "4     F   34   20634      78\n",
            "133   F   43   20651      57\n",
            "..   ..  ...     ...     ...\n",
            "34    F   20   69303      96\n",
            "40    F   29   69445       9\n",
            "188   F   20   69491      74\n",
            "194   F   24   69546       6\n",
            "58    M   23   69893       6\n",
            "\n",
            "[202 rows x 4 columns]\n"
          ]
        }
      ]
    },
    {
      "cell_type": "code",
      "source": [
        "column_a = dataset.iloc[:, 1].values\n",
        "column_b = dataset.iloc[:, 3].values\n",
        "\n",
        "x_age = pd.concat([pd.Series(column_a), pd.Series(column_b)], axis=1)"
      ],
      "metadata": {
        "id": "OyFcd-hsghts"
      },
      "execution_count": 259,
      "outputs": []
    },
    {
      "cell_type": "code",
      "source": [
        "print(x_age)"
      ],
      "metadata": {
        "colab": {
          "base_uri": "https://localhost:8080/"
        },
        "id": "UV_OY4tsgh3F",
        "outputId": "6802ee74-4d6f-4bbf-8155-0da0935ffc7d"
      },
      "execution_count": 260,
      "outputs": [
        {
          "output_type": "stream",
          "name": "stdout",
          "text": [
            "      0   1\n",
            "0    47  12\n",
            "1    32  22\n",
            "2    23  79\n",
            "3    34  78\n",
            "4    43  57\n",
            "..   ..  ..\n",
            "197  20  96\n",
            "198  29   9\n",
            "199  20  74\n",
            "200  24   6\n",
            "201  23   6\n",
            "\n",
            "[202 rows x 2 columns]\n"
          ]
        }
      ]
    },
    {
      "cell_type": "code",
      "source": [
        "print(column_a)"
      ],
      "metadata": {
        "colab": {
          "base_uri": "https://localhost:8080/"
        },
        "id": "Jgiid2tlghzq",
        "outputId": "e7b876e6-6f35-4c22-ff4e-38bc761e1d3f"
      },
      "execution_count": 261,
      "outputs": [
        {
          "output_type": "stream",
          "name": "stdout",
          "text": [
            "[47 32 23 34 43 21 28 21 45 23 46 33 25 32 20 25 28 25 19 28 47 28 31 26\n",
            " 34 19 29 23 23 29 38 28 35 21 28 28 27 23 23 23 27 24 20 32 34 35 23 48\n",
            " 37 23 39 43 43 34 31 20 23 29 25 43 27 30 23 23 27 46 28 27 43 45 37 23\n",
            " 39 26 35 26 23 32 47 54 26 43 26 23 48 45 23 45 27 46 27 29 45 29 43 43\n",
            " 26 46 23 31 45 34 34 23 27 43 32 44 45 32 45 32 23 36 32 46 39 43 23 23\n",
            " 26 43 24 45 56 20 25 32 25 37 25 35 47 34 34 18 45 43 34 23 29 28 29 36\n",
            " 26 45 23 27 23 23 26 34 43 23 43 54 23 29 34 23 23 33 43 33 29 39 42 25\n",
            " 45 23 38 30 23 32 28 45 29 23 48 39 29 24 27 43 21 23 24 25 22 25 28 29\n",
            " 22 38 22 43 23 20 29 20 24 23]\n"
          ]
        }
      ]
    },
    {
      "cell_type": "markdown",
      "source": [
        "# Optimal number of clusters via Elbow Method"
      ],
      "metadata": {
        "id": "bm7cNANcISWs"
      }
    },
    {
      "cell_type": "code",
      "source": [
        "from sklearn.cluster import KMeans"
      ],
      "metadata": {
        "id": "s8A_c4-VIYKv"
      },
      "execution_count": 262,
      "outputs": []
    },
    {
      "cell_type": "code",
      "source": [
        "wcss = []"
      ],
      "metadata": {
        "id": "Xv-X0gD2MgEV"
      },
      "execution_count": 263,
      "outputs": []
    },
    {
      "cell_type": "code",
      "source": [
        "for i in range(1,11):\n",
        "  kmeans = KMeans(n_clusters = i, init = 'k-means++', random_state = 21,  n_init=10)\n",
        "  kmeans.fit(x)\n",
        "  wcss.append(kmeans.inertia_)"
      ],
      "metadata": {
        "id": "dX3M8Y1YMgA_"
      },
      "execution_count": 264,
      "outputs": []
    },
    {
      "cell_type": "code",
      "source": [
        "plt.plot(range(1,11), wcss)\n",
        "plt.title('WCSS via Elbow Method')\n",
        "plt.xlabel('Number of clusters')\n",
        "plt.ylabel('WCSS Value')\n",
        "\n",
        "plt.show()"
      ],
      "metadata": {
        "colab": {
          "base_uri": "https://localhost:8080/",
          "height": 472
        },
        "id": "Zq1Igq65NBCS",
        "outputId": "38091a55-581d-4daf-a16a-80dd33db8cf2"
      },
      "execution_count": 265,
      "outputs": [
        {
          "output_type": "display_data",
          "data": {
            "text/plain": [
              "<Figure size 640x480 with 1 Axes>"
            ],
            "image/png": "[encoded data removed]"
          },
          "metadata": {}
        }
      ]
    },
    {
      "cell_type": "markdown",
      "source": [
        "# K Means Model Training on Training Set (For Income vs Rating)"
      ],
      "metadata": {
        "id": "gm1i2HaJI6S_"
      }
    },
    {
      "cell_type": "code",
      "source": [
        "kmeans = KMeans(n_clusters = 4, init = 'k-means++', random_state = 21, n_init=10)\n",
        "y_means = kmeans.fit_predict(x)"
      ],
      "metadata": {
        "id": "EosVrFcyI8Ww"
      },
      "execution_count": 276,
      "outputs": []
    },
    {
      "cell_type": "code",
      "source": [
        "print(y_means)"
      ],
      "metadata": {
        "colab": {
          "base_uri": "https://localhost:8080/"
        },
        "id": "jjhCcuyLOHOv",
        "outputId": "434c94f1-c917-4ce7-d197-ea82c2f228ac"
      },
      "execution_count": 277,
      "outputs": [
        {
          "output_type": "stream",
          "name": "stdout",
          "text": [
            "[3 3 3 3 3 3 3 3 3 3 3 3 3 3 3 3 3 3 3 3 3 3 3 3 3 3 3 3 3 3 3 3 3 3 3 3 3\n",
            " 3 3 3 3 3 3 3 3 3 3 3 1 1 1 1 1 1 1 1 1 1 1 1 1 1 1 1 1 1 1 1 1 1 1 1 1 1\n",
            " 1 1 1 1 1 1 1 1 1 1 1 1 1 1 1 1 1 1 1 1 1 2 2 2 2 2 2 2 2 2 2 2 2 2 2 2 2\n",
            " 2 2 2 2 2 2 2 2 2 2 2 2 2 2 2 2 2 2 2 2 2 2 2 2 2 2 2 2 2 2 2 2 2 2 2 2 2\n",
            " 2 0 0 0 0 0 0 0 0 0 0 0 0 0 0 0 0 0 0 0 0 0 0 0 0 0 0 0 0 0 0 0 0 0 0 0 0\n",
            " 0 0 0 0 0 0 0 0 0 0 0 0 0 0 0 0 0]\n"
          ]
        }
      ]
    },
    {
      "cell_type": "markdown",
      "source": [
        "# K Means Model Training on Training Set (For Age vs Rating)"
      ],
      "metadata": {
        "id": "Pn4lwl5Mkiw0"
      }
    },
    {
      "cell_type": "code",
      "source": [
        "kmeans = KMeans(n_clusters = 4, init = 'k-means++', random_state = 21, n_init=10)\n",
        "y_age_means = kmeans.fit_predict(x_age)"
      ],
      "metadata": {
        "id": "m-PCxOlhkowC"
      },
      "execution_count": 270,
      "outputs": []
    },
    {
      "cell_type": "code",
      "source": [
        "print(y_age_means)"
      ],
      "metadata": {
        "colab": {
          "base_uri": "https://localhost:8080/"
        },
        "id": "HWVtwIB4ko1v",
        "outputId": "5c2d03de-ba99-44b4-a043-c8324cebca39"
      },
      "execution_count": 271,
      "outputs": [
        {
          "output_type": "stream",
          "name": "stdout",
          "text": [
            "[2 2 3 0 0 3 3 1 0 3 3 0 3 3 2 2 2 0 2 2 1 2 2 2 1 1 3 3 1 0 0 3 1 1 0 0 2\n",
            " 1 0 0 2 0 2 3 0 1 2 1 0 1 1 1 0 3 1 3 2 3 0 1 1 1 3 3 2 0 3 3 1 0 1 1 3 1\n",
            " 1 3 2 1 1 0 1 0 3 3 1 0 3 2 3 0 0 2 2 1 1 2 3 2 2 1 0 2 3 3 1 2 1 0 2 0 1\n",
            " 0 0 1 0 2 0 0 1 3 2 1 3 1 0 1 0 2 1 2 1 3 0 1 3 3 1 2 1 2 1 1 3 2 3 0 3 2\n",
            " 1 3 2 1 1 0 0 0 2 1 2 3 3 3 1 0 2 2 3 3 1 2 2 3 1 1 1 2 2 1 2 3 1 0 3 1 3\n",
            " 1 3 1 1 0 2 2 3 1 2 2 2 3 2 0 2 2]\n"
          ]
        }
      ]
    },
    {
      "cell_type": "markdown",
      "source": [
        "# Visualizing Clusters (For income vs Rating)"
      ],
      "metadata": {
        "id": "4qmRcHxrOY8r"
      }
    },
    {
      "cell_type": "code",
      "source": [
        "x_array = x.to_numpy()"
      ],
      "metadata": {
        "id": "meaboGkvVI_i"
      },
      "execution_count": 278,
      "outputs": []
    },
    {
      "cell_type": "code",
      "source": [
        "plt.scatter(x_array[y_means == 0, 0], x_array[y_means == 0, 1], s = 100, c = 'magenta', label = 'Cluster 1')\n",
        "plt.scatter(x_array[y_means == 1, 0], x_array[y_means == 1, 1], s = 100, c = 'blue', label = 'Cluster 2')\n",
        "plt.scatter(x_array[y_means == 2, 0], x_array[y_means == 2, 1], s = 100, c = 'red', label = 'Cluster 3')\n",
        "plt.scatter(x_array[y_means == 3, 0], x_array[y_means == 3, 1], s = 100, c = 'cyan', label = 'Cluster 4')\n",
        "\n",
        "plt.scatter(kmeans.cluster_centers_[:, 0], kmeans.cluster_centers_[:, 1], s = 300, c = 'black', label = 'Centroids')\n",
        "plt.title('Clusters of Amazon Users')\n",
        "plt.xlabel('Annual income in INR')\n",
        "plt.ylabel('Purchase Rating')\n",
        "\n",
        "plt.show()"
      ],
      "metadata": {
        "colab": {
          "base_uri": "https://localhost:8080/",
          "height": 472
        },
        "id": "DCcPh4RqOicW",
        "outputId": "a408cd88-93f3-4980-9ea0-c6bfc4614e4c"
      },
      "execution_count": 279,
      "outputs": [
        {
          "output_type": "display_data",
          "data": {
            "text/plain": [
              "<Figure size 640x480 with 1 Axes>"
            ],
            "image/png": "[encoded data removed]"
          },
          "metadata": {}
        }
      ]
    },
    {
      "cell_type": "markdown",
      "source": [
        "# Visualizing Clusters (For Age vs Rating)"
      ],
      "metadata": {
        "id": "wWVeO8K-miJm"
      }
    },
    {
      "cell_type": "code",
      "source": [
        "x_age_array = x_age.to_numpy()"
      ],
      "metadata": {
        "id": "kgNnrEYVmuC4"
      },
      "execution_count": 274,
      "outputs": []
    },
    {
      "cell_type": "code",
      "source": [
        "plt.scatter(x_age_array[y_age_means == 0, 0], x_age_array[y_age_means == 0, 1], s = 100, c = 'magenta', label = 'Cluster 1')\n",
        "plt.scatter(x_age_array[y_age_means == 1, 0], x_age_array[y_age_means == 1, 1], s = 100, c = 'blue', label = 'Cluster 2')\n",
        "plt.scatter(x_age_array[y_age_means == 2, 0], x_age_array[y_age_means == 2, 1], s = 100, c = 'red', label = 'Cluster 3')\n",
        "plt.scatter(x_age_array[y_age_means == 3, 0], x_age_array[y_age_means == 3, 1], s = 100, c = 'cyan', label = 'Cluster 4')\n",
        "\n",
        "plt.scatter(kmeans.cluster_centers_[:, 0], kmeans.cluster_centers_[:, 1], s = 300, c = 'black', label = 'Centroids')\n",
        "plt.title('Clusters of Amazon Users')\n",
        "plt.xlabel('Age')\n",
        "plt.ylabel('Purchase Rating')\n",
        "\n",
        "plt.show()"
      ],
      "metadata": {
        "colab": {
          "base_uri": "https://localhost:8080/",
          "height": 472
        },
        "id": "yA1HDxoYmt_X",
        "outputId": "d56bb440-5db5-4a7a-d163-d3c50ba953d8"
      },
      "execution_count": 275,
      "outputs": [
        {
          "output_type": "display_data",
          "data": {
            "text/plain": [
              "<Figure size 640x480 with 1 Axes>"
            ],
            "image/png": "[encoded data removed]"
          },
          "metadata": {}
        }
      ]
    }
  ]
}